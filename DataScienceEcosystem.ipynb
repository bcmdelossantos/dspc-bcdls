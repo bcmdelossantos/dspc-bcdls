{
 "cells": [
  {
   "cell_type": "markdown",
   "id": "0e82bd41-0484-46a3-bab0-3330de3b7d91",
   "metadata": {
    "tags": []
   },
   "source": [
    "# Data Science Tools and Ecosystem"
   ]
  },
  {
   "cell_type": "markdown",
   "id": "780bcd0b-8ff4-4a67-a167-66c6c22a2b24",
   "metadata": {},
   "source": [
    "In this notebook, Data Science Tools and Ecosystem are summarized."
   ]
  },
  {
   "cell_type": "markdown",
   "id": "19565e79-2b99-40d3-9fc5-e4304d61a2b2",
   "metadata": {},
   "source": [
    "Some of the popular languages that Data Scientists use are:\n",
    "<ol>\n",
    "<li>Python</li>\n",
    "<li>R</li>\n",
    "<li>SQL</li> \n",
    "</ol>"
   ]
  },
  {
   "cell_type": "markdown",
   "id": "27cfedd4-bef7-4f60-bfbd-c715f3ddb5ab",
   "metadata": {
    "tags": []
   },
   "source": [
    "Some of the commonly used libraries used by Data Scientists include:\n",
    "<ul>\n",
    "<li>matplotlib</li>\n",
    "<li>numPy</li>\n",
    "<li>sciPy</li> \n",
    "</ul>"
   ]
  },
  {
   "cell_type": "markdown",
   "id": "d55356a5-29f6-4184-99f7-fdcacaf3a294",
   "metadata": {
    "tags": []
   },
   "source": [
    "| Data Science Tools |\n",
    "| -------------|\n",
    "| Jupyter |\n",
    "| RStudio |\n",
    "| Tableau |"
   ]
  },
  {
   "cell_type": "markdown",
   "id": "ecb1de4a-eb09-44c2-935c-6ef7872ad674",
   "metadata": {
    "tags": []
   },
   "source": [
    "### Below are a few examples of evaluating arithmetic expressions in Python"
   ]
  },
  {
   "cell_type": "code",
   "execution_count": 10,
   "id": "1d3efb20-7de8-459d-9ede-70eb0ad0eda6",
   "metadata": {
    "tags": []
   },
   "outputs": [
    {
     "data": {
      "text/plain": [
       "17"
      ]
     },
     "execution_count": 10,
     "metadata": {},
     "output_type": "execute_result"
    }
   ],
   "source": [
    "#This a simple arithmetic expression to mutiply then add integers\n",
    "(3*4)+5"
   ]
  },
  {
   "cell_type": "code",
   "execution_count": 11,
   "id": "e97aec56-7ff3-44d1-a2e0-e478fc99ef8f",
   "metadata": {
    "tags": []
   },
   "outputs": [
    {
     "data": {
      "text/plain": [
       "3.3333333333333335"
      ]
     },
     "execution_count": 11,
     "metadata": {},
     "output_type": "execute_result"
    }
   ],
   "source": [
    "#This will convert 200 minutes to hours by diving by 60\n",
    "200/60"
   ]
  },
  {
   "cell_type": "markdown",
   "id": "004a4146-4042-48fa-852d-5b4657fb2442",
   "metadata": {
    "tags": []
   },
   "source": [
    "**Objectives:**\n",
    "<ul>\n",
    "<li>Create a new Jupyter notebook</li>\n",
    "<li>Explore basic markdown and arithmetic expressions in Jupyter.</li>\n",
    "<li>List popular libraries used by Data Scientists</li>\n",
    "<li>List popular tools used by Data Scientists.</li> \n",
    "<li>Learn how to evaluate arithmetic expressions using python</li>\n",
    "\n",
    "</ul>"
   ]
  },
  {
   "cell_type": "markdown",
   "id": "b999fcef-2f49-426c-9e23-c01c7286b3ab",
   "metadata": {},
   "source": [
    "## Author\n",
    "Ben Carlo de los Santos"
   ]
  }
 ],
 "metadata": {
  "kernelspec": {
   "display_name": "Python",
   "language": "python",
   "name": "conda-env-python-py"
  },
  "language_info": {
   "codemirror_mode": {
    "name": "ipython",
    "version": 3
   },
   "file_extension": ".py",
   "mimetype": "text/x-python",
   "name": "python",
   "nbconvert_exporter": "python",
   "pygments_lexer": "ipython3",
   "version": "3.7.12"
  }
 },
 "nbformat": 4,
 "nbformat_minor": 5
}
